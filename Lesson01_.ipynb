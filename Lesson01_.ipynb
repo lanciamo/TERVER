{
  "nbformat_minor" : 2,
  "nbformat" : 4,
  "cells" : [
    {
      "metadata" : {

      },
      "source" : [
        "import numpy as np\n",
        "from math import factorial\n",
        "\n",
        "def combinations(n, k):\n",
        "    return int(factorial(n) \/ (factorial(k) * factorial(n - k)))"
      ],
      "cell_type" : "code",
      "execution_count" : 6,
      "outputs" : [

      ]
    },
    {
      "cell_type" : "markdown",
      "source" : [
        "Д З сдаем ссылкой на GitHub"
      ],
      "metadata" : {

      }
    },
    {
      "cell_type" : "markdown",
      "source" : [
        "Из колоды в 52 карты извлекаются случайным образом 4 карты.\n",
        "a) Найти вероятность того, что все карты – крести. "
      ],
      "metadata" : {

      }
    },
    {
      "metadata" : {

      },
      "source" : [
        "'''\n",
        "для первой карты 13\/52, для второй 12\/51, для третьей 11\/50, для четвертой 10\/49 - переменожаем и получаем:\n",
        "'''\n",
        "(13*12*11*10)\/(52*51*50*49)"
      ],
      "cell_type" : "code",
      "execution_count" : 1,
      "outputs" : [
        {
          "metadata" : {

          },
          "data" : {
            "text\/plain" : [
              "0.0026410564225690276"
            ]
          },
          "output_type" : "execute_result",
          "execution_count" : 1
        }
      ]
    },
    {
      "cell_type" : "markdown",
      "source" : [
        "б) Найти вероятность, что среди 4-х карт окажется ХОТЯ бы один туз."
      ],
      "metadata" : {

      }
    },
    {
      "metadata" : {

      },
      "source" : [
        "'''\n",
        "соответственно мы должны посчитать общее количество комбинаций для одного, двух и четырех тузов(1)\n",
        "сложить их и поделить на общее количество всех возможных комбинаций\n",
        "'''\n",
        "(combinations(4, 1)*combinations(48, 3)+combinations(4, 2)*combinations(48, 2)+ \\\n",
        "combinations(4, 3)*combinations(48, 1)+combinations(4, 4)) \/ combinations(52, 4)"
      ],
      "cell_type" : "code",
      "execution_count" : 11,
      "outputs" : [
        {
          "metadata" : {

          },
          "data" : {
            "text\/plain" : [
              "0.2812632745405855"
            ]
          },
          "output_type" : "execute_result",
          "execution_count" : 11
        }
      ]
    },
    {
      "cell_type" : "markdown",
      "source" : [
        "На входной двери подъезда установлен кодовый замок, содержащий десять кнопок с цифрами от 0 до 9. Код содержит три цифры, которые нужно нажать одновременно. Какова вероятность того, что человек, не знающий код, откроет дверь с первой попытки?"
      ],
      "metadata" : {

      }
    },
    {
      "metadata" : {

      },
      "source" : [
        "'''\n",
        "Так как порядок цифр в коде не важен, то есть как бы мы можем начать с любой цифры, то нажимая одновременно 3 цифры,\n",
        "мы как бы используем сразу 3! комбинаций...\n",
        "'''\n",
        "6\/combinations(10, 3)"
      ],
      "cell_type" : "code",
      "execution_count" : 13,
      "outputs" : [
        {
          "metadata" : {

          },
          "data" : {
            "text\/plain" : [
              "0.05"
            ]
          },
          "output_type" : "execute_result",
          "execution_count" : 13
        }
      ]
    },
    {
      "cell_type" : "markdown",
      "source" : [
        "В ящике имеется 15 деталей, из которых 9 окрашены. Рабочий случайным образом извлекает 3 детали. Какова вероятность того, что все извлеченные детали окрашены?"
      ],
      "metadata" : {

      }
    },
    {
      "metadata" : {

      },
      "source" : [
        "'''\n",
        "Количество комбинаций 3 деталей из 9 надо разделить на общее количество возможных комбинаций\n",
        "'''\n",
        "combinations(9, 3)\/combinations(15, 3)"
      ],
      "cell_type" : "code",
      "execution_count" : 17,
      "outputs" : [
        {
          "metadata" : {

          },
          "data" : {
            "text\/plain" : [
              "0.18461538461538463"
            ]
          },
          "output_type" : "execute_result",
          "execution_count" : 17
        }
      ]
    },
    {
      "cell_type" : "markdown",
      "source" : [
        "В лотерее 100 билетов. Из них 2 выигрышных. Какова вероятность того, что 2 приобретенных билета окажутся выигрышными?"
      ],
      "metadata" : {

      }
    },
    {
      "metadata" : {

      },
      "source" : [
        "'''\n",
        "Количество комбинаций 2 деталей из 2, то есть 1, надо разделить на общее количество возможных комбинаций 2 из 100\n",
        "'''\n",
        "1\/combinations(100, 2)"
      ],
      "cell_type" : "code",
      "execution_count" : 18,
      "outputs" : [
        {
          "metadata" : {

          },
          "data" : {
            "text\/plain" : [
              "0.00020202020202020202"
            ]
          },
          "output_type" : "execute_result",
          "execution_count" : 18
        }
      ]
    },
    {
      "metadata" : {

      },
      "source" : [

      ],
      "cell_type" : "code",
      "execution_count" : null,
      "outputs" : [

      ]
    }
  ],
  "metadata" : {
    "language_info" : {
      "file_extension" : ".py",
      "codemirror_mode" : {
        "name" : "ipython",
        "version" : 3
      },
      "mimetype" : "text\/x-python",
      "pygments_lexer" : "ipython3",
      "version" : "3.7.4",
      "nbconvert_exporter" : "python",
      "name" : "python"
    },
    "kernelspec" : {
      "name" : "python3",
      "language" : "python",
      "display_name" : "Python 3"
    }
  }
}